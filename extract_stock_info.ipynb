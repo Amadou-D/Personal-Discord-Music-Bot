{
 "cells": [
  {
   "cell_type": "markdown",
   "id": "715f7e23",
   "metadata": {},
   "source": [
    "# Import Required Libraries\n",
    "Import the necessary libraries, including requests, BeautifulSoup, and json."
   ]
  },
  {
   "cell_type": "code",
   "execution_count": null,
   "id": "67995c78",
   "metadata": {},
   "outputs": [],
   "source": [
    "# Import Required Libraries\n",
    "import requests\n",
    "from bs4 import BeautifulSoup\n",
    "import json"
   ]
  },
  {
   "cell_type": "markdown",
   "id": "e2431f87",
   "metadata": {},
   "source": [
    "# Define Stock Status Extraction Function\n",
    "Write a function `get_london_drugs_stock_status` that takes a product URL and fetches the HTML content."
   ]
  },
  {
   "cell_type": "code",
   "execution_count": null,
   "id": "59d8918b",
   "metadata": {},
   "outputs": [],
   "source": [
    "# Define Stock Status Extraction Function\n",
    "def get_london_drugs_stock_status(product_url):\n",
    "    \"\"\"\n",
    "    Fetches the stock status of a product from the given URL.\n",
    "\n",
    "    Args:\n",
    "        product_url (str): The URL of the product page.\n",
    "\n",
    "    Returns:\n",
    "        str: The stock status (e.g., 'InStock', 'OutOfStock') or an error message.\n",
    "    \"\"\"\n",
    "    try:\n",
    "        # Fetch the HTML content of the product page\n",
    "        response = requests.get(product_url)\n",
    "        response.raise_for_status()\n",
    "        html_content = response.text\n",
    "        return html_content\n",
    "    except requests.exceptions.RequestException as e:\n",
    "        return f\"Error fetching the product page: {e}\""
   ]
  },
  {
   "cell_type": "markdown",
   "id": "1e0850c3",
   "metadata": {},
   "source": [
    "# Handle JSON-LD Parsing\n",
    "Parse the JSON-LD script tag to extract the 'availability' field from the 'offers' object."
   ]
  },
  {
   "cell_type": "code",
   "execution_count": null,
   "id": "3dd9e4d3",
   "metadata": {},
   "outputs": [],
   "source": [
    "# Handle JSON-LD Parsing\n",
    "def parse_json_ld(html_content):\n",
    "    \"\"\"\n",
    "    Parses the JSON-LD script tag to extract the 'availability' field.\n",
    "\n",
    "    Args:\n",
    "        html_content (str): The HTML content of the product page.\n",
    "\n",
    "    Returns:\n",
    "        str: The stock status (e.g., 'InStock', 'OutOfStock') or an error message.\n",
    "    \"\"\"\n",
    "    try:\n",
    "        # Parse the HTML content using BeautifulSoup\n",
    "        soup = BeautifulSoup(html_content, 'html.parser')\n",
    "        \n",
    "        # Find the JSON-LD script tag\n",
    "        json_ld_tag = soup.find('script', type='application/ld+json')\n",
    "        if not json_ld_tag:\n",
    "            return \"JSON-LD script tag not found.\"\n",
    "        \n",
    "        # Load the JSON-LD content\n",
    "        json_ld_data = json.loads(json_ld_tag.string)\n",
    "        \n",
    "        # Extract the 'availability' field from the 'offers' object\n",
    "        availability = json_ld_data.get('offers', {}).get('availability', 'Availability not found.')\n",
    "        return availability\n",
    "    except json.JSONDecodeError as e:\n",
    "        return f\"Error decoding JSON-LD: {e}\""
   ]
  },
  {
   "cell_type": "markdown",
   "id": "1ac0eabc",
   "metadata": {},
   "source": [
    "# Add Error Handling\n",
    "Include error handling for network issues, missing JSON-LD script tags, and JSON decoding errors."
   ]
  },
  {
   "cell_type": "code",
   "execution_count": null,
   "id": "c02fb78b",
   "metadata": {},
   "outputs": [],
   "source": [
    "# Add Error Handling\n",
    "def get_stock_status_with_error_handling(product_url):\n",
    "    \"\"\"\n",
    "    Combines fetching the HTML content and parsing the JSON-LD to get the stock status.\n",
    "\n",
    "    Args:\n",
    "        product_url (str): The URL of the product page.\n",
    "\n",
    "    Returns:\n",
    "        str: The stock status (e.g., 'InStock', 'OutOfStock') or an error message.\n",
    "    \"\"\"\n",
    "    # Fetch the HTML content\n",
    "    html_content = get_london_drugs_stock_status(product_url)\n",
    "    if \"Error\" in html_content:\n",
    "        return html_content\n",
    "    \n",
    "    # Parse the JSON-LD content\n",
    "    stock_status = parse_json_ld(html_content)\n",
    "    return stock_status"
   ]
  },
  {
   "cell_type": "markdown",
   "id": "0b6b0090",
   "metadata": {},
   "source": [
    "# Test the Function with Example URL\n",
    "Test the function using an example product URL and print the stock status."
   ]
  },
  {
   "cell_type": "code",
   "execution_count": null,
   "id": "13854412",
   "metadata": {},
   "outputs": [],
   "source": [
    "# Test the Function with Example URL\n",
    "if __name__ == \"__main__\":\n",
    "    # Example product URL\n",
    "    example_url = \"https://www.example.com/product-page\"\n",
    "    \n",
    "    # Get the stock status\n",
    "    stock_status = get_stock_status_with_error_handling(example_url)\n",
    "    \n",
    "    # Print the stock status\n",
    "    print(f\"Stock Status: {stock_status}\")"
   ]
  }
 ],
 "metadata": {
  "language_info": {
   "name": "python"
  }
 },
 "nbformat": 4,
 "nbformat_minor": 5
}
